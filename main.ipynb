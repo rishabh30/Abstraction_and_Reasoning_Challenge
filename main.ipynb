{
 "cells": [
  {
   "cell_type": "code",
   "execution_count": 0,
   "metadata": {
    "colab": {},
    "colab_type": "code",
    "id": "UVLS0JUmwAP6"
   },
   "outputs": [],
   "source": [
    "\n",
    "# Input data files are available in the read-only \"../input/\" directory\n",
    "# For example, running this (by clicking run or pressing Shift+Enter) will list all files under the input directory\n",
    "\n",
    "import os\n",
    "for dirname, _, filenames in os.walk('/kaggle/input'):\n",
    "    for filename in filenames:\n",
    "        print(os.path.join(dirname, filename))\n",
    "\n",
    "# You can write up to 5GB to the current directory (/kaggle/working/) that gets preserved as output when you create a version using \"Save & Run All\" \n",
    "# You can also write temporary files to /kaggle/temp/, but they won't be saved outside of the current session"
   ]
  },
  {
   "cell_type": "code",
   "execution_count": 0,
   "metadata": {
    "colab": {},
    "colab_type": "code",
    "id": "ryv5yr0vwmTG"
   },
   "outputs": [],
   "source": [
    "import zipfile"
   ]
  },
  {
   "cell_type": "code",
   "execution_count": 3,
   "metadata": {
    "colab": {
     "base_uri": "https://localhost:8080/",
     "height": 52
    },
    "colab_type": "code",
    "executionInfo": {
     "elapsed": 431837,
     "status": "ok",
     "timestamp": 1590005867926,
     "user": {
      "displayName": "rishabh singhal",
      "photoUrl": "",
      "userId": "14947622490882742658"
     },
     "user_tz": -330
    },
    "id": "amy6q1RAwMLF",
    "outputId": "f9624615-7fcc-4147-8fb7-23f721882aee"
   },
   "outputs": [
    {
     "name": "stdout",
     "output_type": "stream",
     "text": [
      "Archive:  /content/abstraction-and-reasoning-challenge.zip\n",
      "replace evaluation/00576224.json? [y]es, [n]o, [A]ll, [N]one, [r]ename: N\n"
     ]
    }
   ],
   "source": [
    "!unzip \"/content/abstraction-and-reasoning-challenge.zip\""
   ]
  },
  {
   "cell_type": "code",
   "execution_count": 0,
   "metadata": {
    "colab": {},
    "colab_type": "code",
    "id": "OgfnHTu-wM8U"
   },
   "outputs": [],
   "source": [
    "TEST_PATH =  'test/'\n",
    "SUBMISSION_PATH =  'sample_submission.csv'"
   ]
  },
  {
   "cell_type": "code",
   "execution_count": 5,
   "metadata": {
    "colab": {
     "base_uri": "https://localhost:8080/",
     "height": 90
    },
    "colab_type": "code",
    "executionInfo": {
     "elapsed": 436617,
     "status": "ok",
     "timestamp": 1590005872728,
     "user": {
      "displayName": "rishabh singhal",
      "photoUrl": "",
      "userId": "14947622490882742658"
     },
     "user_tz": -330
    },
    "id": "Dr3NMx7VwtKQ",
    "outputId": "739a12d7-f860-4872-cd17-b1434c2926d5"
   },
   "outputs": [
    {
     "name": "stderr",
     "output_type": "stream",
     "text": [
      "Using TensorFlow backend.\n",
      "/usr/local/lib/python3.6/dist-packages/statsmodels/tools/_testing.py:19: FutureWarning: pandas.util.testing is deprecated. Use the functions in the public API at pandas.testing instead.\n",
      "  import pandas.util.testing as tm\n"
     ]
    }
   ],
   "source": [
    "import os\n",
    "import gc\n",
    "#import cv2\n",
    "import json\n",
    "import time\n",
    "\n",
    "import numpy as np\n",
    "import pandas as pd\n",
    "from pathlib import Path\n",
    "from keras.utils import to_categorical\n",
    "\n",
    "import seaborn as sns\n",
    "#import plotly.express as px\n",
    "from matplotlib import colors\n",
    "import matplotlib.pyplot as plt\n",
    "#import plotly.figure_factory as ff\n",
    "\n",
    "#import torch\n",
    "#T = torch.Tensor\n",
    "#import torch.nn as nn\n",
    "#from torch.optim import Adam\n",
    "#from torch.utils.data import Dataset, DataLoader"
   ]
  },
  {
   "cell_type": "code",
   "execution_count": 0,
   "metadata": {
    "colab": {},
    "colab_type": "code",
    "id": "D6NIn5zDwO5Z"
   },
   "outputs": [],
   "source": [
    "test_task_files = sorted(os.listdir(TEST_PATH))\n",
    "\n",
    "test_tasks = []\n",
    "for task_file in test_task_files:\n",
    "    with open(str(TEST_PATH + task_file), 'r') as f:\n",
    "        task = json.load(f)\n",
    "        test_tasks.append(task)"
   ]
  },
  {
   "cell_type": "code",
   "execution_count": 0,
   "metadata": {
    "colab": {},
    "colab_type": "code",
    "id": "1g7kODybwFwZ"
   },
   "outputs": [],
   "source": [
    "from sklearn.linear_model import LinearRegression\n",
    "from tensorflow.keras.models import Sequential\n",
    "from tensorflow.keras.layers import Dense\n",
    "from sklearn.ensemble import GradientBoostingRegressor\n",
    "from sklearn.metrics import accuracy_score\n",
    "\n",
    "lr = LinearRegression(normalize=True)\n",
    "#train = pd.read_csv('../input/abstraction-and-reasoning-challenge/sample_submission.csv')\n",
    "#train.columns.to_list()\n",
    "#test = pd.read_csv('../input/abstraction-and-reasoning-challenge/sample_submission.csv')\n",
    "#test.columns.to_list()"
   ]
  },
  {
   "cell_type": "code",
   "execution_count": 0,
   "metadata": {
    "colab": {},
    "colab_type": "code",
    "id": "K705ed8Uwenr"
   },
   "outputs": [],
   "source": [
    "Xs_test, Xs_train, ys_train = [], [], []\n",
    "\n",
    "for task in test_tasks:\n",
    "    X_test, X_train, y_train = [], [], []\n",
    "\n",
    "    for pair in task[\"test\"]:\n",
    "        X_test.append(pair[\"input\"])\n",
    "\n",
    "    for pair in task[\"train\"]:\n",
    "        X_train.append(pair[\"input\"])\n",
    "        y_train.append(pair[\"output\"])\n",
    "    \n",
    "    Xs_test.append(X_test)\n",
    "    Xs_train.append(X_train)\n",
    "    ys_train.append(y_train)"
   ]
  },
  {
   "cell_type": "code",
   "execution_count": 0,
   "metadata": {
    "colab": {},
    "colab_type": "code",
    "id": "LG3ZFkKBwwxD"
   },
   "outputs": [],
   "source": [
    "matrices = []\n",
    "for X_test in Xs_test:\n",
    "    for X in X_test:\n",
    "        matrices.append(X)\n",
    "        \n",
    "values = []\n",
    "for matrix in matrices:\n",
    "    for row in matrix:\n",
    "        for value in row:\n",
    "            values.append(value)\n",
    "            \n",
    "df = pd.DataFrame(values)\n",
    "df.columns = [\"values\"]"
   ]
  },
  {
   "cell_type": "code",
   "execution_count": 0,
   "metadata": {
    "colab": {},
    "colab_type": "code",
    "id": "ZMTheBhaw2TS"
   },
   "outputs": [],
   "source": [
    "eval_path = 'evaluation/'\n",
    "eval_tasks = sorted(os.listdir(eval_path))\n",
    "task = []\n",
    "eval_i = []\n",
    "eval_o = []\n",
    "eval_ti = []\n",
    "eval_to = []\n",
    "for i in range (0,400):\n",
    "    \n",
    "    task_file = str(eval_path + eval_tasks[i])\n",
    "\n",
    "    with open(task_file, 'r') as f:\n",
    "        task = json.load(f)\n",
    "    for j in range(0,len(task)):\n",
    "        \n",
    "        if(j==0):    \n",
    "            w=1\n",
    "            for k in range(0,len(task['train'])):\n",
    "                a = np.ones((28,28))*12\n",
    "                x = len(task['train'][k]['input'])\n",
    "                y = len(task['train'][k]['input'][0])\n",
    "                \n",
    "                for l in range(0,min(28,x)):\n",
    "                    for m in range(0,min(28,y)):                        \n",
    "                        a[l][m] = task['train'][k]['input'][l][m]                   \n",
    "                eval_i.append(a)\n",
    "                \n",
    "                \n",
    "                a = np.ones((28,28))*12\n",
    "                x = len(task['train'][k]['output'])\n",
    "                y = len(task['train'][k]['output'][0])\n",
    "                for l in range(0,min(28,x)):\n",
    "                    for m in range(0,min(28,y)):\n",
    "                        a[l][m] = task['train'][k]['output'][l][m]                   \n",
    "                eval_o.append(a)\n",
    "                \n",
    "                while(len(task['test']) - len(task['train']) -w > 0):\n",
    "                    w=w+1\n",
    "                    eval_i.append(a)\n",
    "                    eval_o.append(a)\n",
    "                \n",
    "        else:\n",
    "            w=1\n",
    "            for k in range(0,len(task['test'])):\n",
    "                a = np.ones((28,28))*12\n",
    "                x = len(task['test'][k]['input'])\n",
    "                y = len(task['test'][k]['input'][0])\n",
    "                for l in range(0,min(28,x)):\n",
    "                    for m in range(0,min(28,y)):\n",
    "                        a[l][m] = task['test'][k]['input'][l][m]                   \n",
    "                eval_ti.append(a)\n",
    "           \n",
    "                b = np.ones((28,28))*12\n",
    "                x = len(task['test'][k]['output'])\n",
    "                y = len(task['test'][k]['output'][0])\n",
    "                for l in range(0,min(28,x)):\n",
    "                    for m in range(0,min(28,y)):                        \n",
    "                        b[l][m] = task['test'][k]['output'][l][m]                   \n",
    "                eval_to.append(b)\n",
    "                \n",
    "            while(len(task['train']) - len(task['test']) -w +1 > 0):\n",
    "                   #while(len(task['train']) - len(task['test']) -w > 0):\n",
    "                w=w+1\n",
    "                eval_ti.append(a) \n",
    "                eval_to.append(b)"
   ]
  },
  {
   "cell_type": "code",
   "execution_count": 11,
   "metadata": {
    "colab": {
     "base_uri": "https://localhost:8080/",
     "height": 1000
    },
    "colab_type": "code",
    "executionInfo": {
     "elapsed": 441036,
     "status": "ok",
     "timestamp": 1590005877194,
     "user": {
      "displayName": "rishabh singhal",
      "photoUrl": "",
      "userId": "14947622490882742658"
     },
     "user_tz": -330
    },
    "id": "DsrHoEvJw39F",
    "outputId": "1120968a-3365-4b2d-dd63-12326e489633"
   },
   "outputs": [
    {
     "data": {
      "image/png": "[encoded data removed]",
      "text/plain": [
       "<Figure size 1080x1080 with 4 Axes>"
      ]
     },
     "metadata": {
      "needs_background": "light",
      "tags": []
     },
     "output_type": "display_data"
    },
    {
     "data": {
      "image/png": "[encoded data removed]",
      "text/plain": [
       "<Figure size 1080x1080 with 4 Axes>"
      ]
     },
     "metadata": {
      "needs_background": "light",
      "tags": []
     },
     "output_type": "display_data"
    },
    {
     "data": {
      "image/png": "[encoded data removed]",
      "text/plain": [
       "<Figure size 1080x1080 with 4 Axes>"
      ]
     },
     "metadata": {
      "needs_background": "light",
      "tags": []
     },
     "output_type": "display_data"
    },
    {
     "data": {
      "image/png": "[encoded data removed]",
      "text/plain": [
       "<Figure size 1080x1080 with 4 Axes>"
      ]
     },
     "metadata": {
      "needs_background": "light",
      "tags": []
     },
     "output_type": "display_data"
    },
    {
     "data": {
      "image/png": "[encoded data removed]",
      "text/plain": [
       "<Figure size 1080x1080 with 4 Axes>"
      ]
     },
     "metadata": {
      "needs_background": "light",
      "tags": []
     },
     "output_type": "display_data"
    }
   ],
   "source": [
    "#data_path = Path('/kaggle/input/abstraction-and-reasoning-challenge/')\n",
    "training_path = 'training/'\n",
    "training_tasks = sorted(os.listdir(training_path))\n",
    "\n",
    "for i in [1, 19, 8, 15, 9]:\n",
    "\n",
    "    task_file = str(training_path + training_tasks[i])\n",
    "\n",
    "    with open(task_file, 'r') as f:\n",
    "        task = json.load(f)\n",
    "\n",
    "    def plot_task(task):\n",
    "        \"\"\"\n",
    "        Plots the first train and test pairs of a specified task,\n",
    "        using same color scheme as the ARC app\n",
    "        \"\"\"\n",
    "        cmap = colors.ListedColormap(\n",
    "            ['#000000', '#0074D9','#FF4136','#2ECC40','#FFDC00',\n",
    "             '#AAAAAA', '#F012BE', '#FF851B', '#7FDBFF', '#870C25'])\n",
    "        norm = colors.Normalize(vmin=0, vmax=9)\n",
    "        fig, ax = plt.subplots(1, 4, figsize=(15,15))\n",
    "        ax[0].imshow(task['train'][0]['input'], cmap=cmap, norm=norm)\n",
    "        width = np.shape(task['train'][0]['input'])[1]\n",
    "        height = np.shape(task['train'][0]['input'])[0]\n",
    "        ax[0].set_xticks(np.arange(0,width))\n",
    "        ax[0].set_yticks(np.arange(0,height))\n",
    "        ax[0].set_xticklabels([])\n",
    "        ax[0].set_yticklabels([])\n",
    "        ax[0].tick_params(length=0)\n",
    "        ax[0].grid(True)\n",
    "        ax[0].set_title('Train Input')\n",
    "        ax[1].imshow(task['train'][0]['output'], cmap=cmap, norm=norm)\n",
    "        width = np.shape(task['train'][0]['output'])[1]\n",
    "        height = np.shape(task['train'][0]['output'])[0]\n",
    "        ax[1].set_xticks(np.arange(0,width))\n",
    "        ax[1].set_yticks(np.arange(0,height))\n",
    "        ax[1].set_xticklabels([])\n",
    "        ax[1].set_yticklabels([])\n",
    "        ax[1].tick_params(length=0)\n",
    "        ax[1].grid(True)\n",
    "        ax[1].set_title('Train Output')\n",
    "        ax[2].imshow(task['test'][0]['input'], cmap=cmap, norm=norm)\n",
    "        width = np.shape(task['test'][0]['input'])[1]\n",
    "        height = np.shape(task['test'][0]['input'])[0]\n",
    "        ax[2].set_xticks(np.arange(0,width))\n",
    "        ax[2].set_yticks(np.arange(0,height))\n",
    "        ax[2].set_xticklabels([])\n",
    "        ax[2].set_yticklabels([])\n",
    "        ax[2].tick_params(length=0)\n",
    "        ax[2].grid(True)\n",
    "        ax[2].set_title('Test Input')\n",
    "        ax[3].imshow(task['test'][0]['output'], cmap=cmap, norm=norm)\n",
    "        width = np.shape(task['test'][0]['output'])[1]\n",
    "        height = np.shape(task['test'][0]['output'])[0]\n",
    "        ax[3].set_xticks(np.arange(0,width))\n",
    "        ax[3].set_yticks(np.arange(0,height))\n",
    "        ax[3].set_xticklabels([])\n",
    "        ax[3].set_yticklabels([])\n",
    "        ax[3].tick_params(length=0)\n",
    "        ax[3].grid(True)\n",
    "        ax[3].set_title('Test Output')\n",
    "        plt.tight_layout()\n",
    "        plt.show()\n",
    "\n",
    "    plot_task(task)"
   ]
  },
  {
   "cell_type": "code",
   "execution_count": 0,
   "metadata": {
    "colab": {},
    "colab_type": "code",
    "id": "AlLR0tg4w8Qg"
   },
   "outputs": [],
   "source": [
    "# train_ti = np.asarray(train_ti)\n",
    "# train_i = np.asarray(train_i)\n",
    "# train_to = np.asarray(train_to)\n",
    "# train_o = np.asarray(train_o)"
   ]
  },
  {
   "cell_type": "code",
   "execution_count": 0,
   "metadata": {
    "colab": {},
    "colab_type": "code",
    "id": "mYkkhJvtw-v6"
   },
   "outputs": [],
   "source": [
    "# eval_ti = np.asarray(eval_ti)\n",
    "# eval_i = np.asarray(eval_i)\n",
    "# eval_to = np.asarray(eval_to)\n",
    "# eval_o = np.asarray(eval_o)"
   ]
  },
  {
   "cell_type": "code",
   "execution_count": 0,
   "metadata": {
    "colab": {},
    "colab_type": "code",
    "id": "flpWkWWUxAHF"
   },
   "outputs": [],
   "source": [
    "train_ti = np.expand_dims(train_ti, axis=3)\n",
    "train_i = np.expand_dims(train_i, axis=3)\n",
    "train_to = np.expand_dims(train_to, axis=3)\n",
    "train_o = np.expand_dims(train_o, axis=3)"
   ]
  },
  {
   "cell_type": "code",
   "execution_count": 0,
   "metadata": {
    "colab": {},
    "colab_type": "code",
    "id": "NeUcHbrCxBdd"
   },
   "outputs": [],
   "source": [
    "eval_ti = np.expand_dims(eval_ti, axis=3)\n",
    "eval_i = np.expand_dims(eval_i, axis=3)\n",
    "eval_to = np.expand_dims(eval_to, axis=3)\n",
    "eval_o = np.expand_dims(eval_o, axis=3)"
   ]
  },
  {
   "cell_type": "code",
   "execution_count": 18,
   "metadata": {
    "colab": {
     "base_uri": "https://localhost:8080/",
     "height": 52
    },
    "colab_type": "code",
    "executionInfo": {
     "elapsed": 441824,
     "status": "ok",
     "timestamp": 1590005878047,
     "user": {
      "displayName": "rishabh singhal",
      "photoUrl": "",
      "userId": "14947622490882742658"
     },
     "user_tz": -330
    },
    "id": "6SCfCwosxFWY",
    "outputId": "94b93f49-10bd-40ef-ebd8-346e39b81fc1"
   },
   "outputs": [
    {
     "name": "stdout",
     "output_type": "stream",
     "text": [
      "(1301, 28, 28, 1)\n",
      "(1301, 28, 28, 1)\n"
     ]
    }
   ],
   "source": [
    "print(train_ti.shape)\n",
    "print(train_to.shape)"
   ]
  },
  {
   "cell_type": "code",
   "execution_count": 19,
   "metadata": {
    "colab": {
     "base_uri": "https://localhost:8080/",
     "height": 52
    },
    "colab_type": "code",
    "executionInfo": {
     "elapsed": 441803,
     "status": "ok",
     "timestamp": 1590005878047,
     "user": {
      "displayName": "rishabh singhal",
      "photoUrl": "",
      "userId": "14947622490882742658"
     },
     "user_tz": -330
    },
    "id": "GFuAFDi3xHMK",
    "outputId": "929598c2-a332-4c45-bfe8-5fcac2a72666"
   },
   "outputs": [
    {
     "name": "stdout",
     "output_type": "stream",
     "text": [
      "(1363, 28, 28, 1)\n",
      "(1363, 28, 28, 1)\n"
     ]
    }
   ],
   "source": [
    "print(eval_ti.shape)\n",
    "print(eval_to.shape)"
   ]
  },
  {
   "cell_type": "code",
   "execution_count": 0,
   "metadata": {
    "colab": {},
    "colab_type": "code",
    "id": "fSiDGRTdxLzg"
   },
   "outputs": [],
   "source": [
    "task = []\n",
    "test_i = []\n",
    "test_o = []\n",
    "test_ti = []\n",
    "test_to = []\n",
    "test_tasks = sorted(os.listdir(TEST_PATH))\n",
    "for i in range (0,100):\n",
    "    \n",
    "    task_file = str(TEST_PATH + test_tasks[i])\n",
    "\n",
    "    with open(task_file, 'r') as f:\n",
    "        task = json.load(f)\n",
    "    for j in range(0,len(task)):\n",
    "        if(j==0):    \n",
    "            w=1\n",
    "            for k in range(0,len(task['test'])):\n",
    "                a = np.ones((28,28))*12\n",
    "                x = len(task['train'][k]['input'])\n",
    "                y = len(task['train'][k]['input'][0])\n",
    "                \n",
    "                for l in range(0,min(28,x)):\n",
    "                    for m in range(0,min(28,y)):                        \n",
    "                        a[l][m] = task['train'][k]['input'][l][m]                   \n",
    "                test_i.append(a)\n",
    "                \n",
    "                \n",
    "                a = np.ones((28,28))*12\n",
    "                x = len(task['train'][k]['output'])\n",
    "                y = len(task['train'][k]['output'][0])\n",
    "                for l in range(0,min(28,x)):\n",
    "                    for m in range(0,min(28,y)):\n",
    "                        a[l][m] = task['train'][k]['output'][l][m]                   \n",
    "                test_o.append(a)\n",
    "                \n",
    "         #       while(len(task['test']) - len(task['train']) -w > 0):\n",
    "         #           w=w+1\n",
    "         #           test_ti.append(a)\n",
    "         #           test_to.append(a)\n",
    "                \n",
    "        else:\n",
    "            w=1\n",
    "            for k in range(0,len(task['test'])):\n",
    "                a = np.ones((28,28))*12\n",
    "                x = len(task['test'][k]['input'])\n",
    "                y = len(task['test'][k]['input'][0])\n",
    "                for l in range(0,min(28,x)):\n",
    "                    for m in range(0,min(28,y)):\n",
    "                        a[l][m] = task['test'][k]['input'][l][m]                   \n",
    "                test_ti.append(a)"
   ]
  },
  {
   "cell_type": "code",
   "execution_count": 0,
   "metadata": {
    "colab": {},
    "colab_type": "code",
    "id": "1wBuz48KxNNM"
   },
   "outputs": [],
   "source": [
    "# test_ti = np.asarray(test_ti)\n",
    "# test_i = np.asarray(test_i)\n",
    "# test_o = np.asarray(test_o)"
   ]
  },
  {
   "cell_type": "code",
   "execution_count": 0,
   "metadata": {
    "colab": {},
    "colab_type": "code",
    "id": "toIHAQlcxOnw"
   },
   "outputs": [],
   "source": [
    "test_ti = np.expand_dims(test_ti, axis=3)\n",
    "test_i = np.expand_dims(test_i, axis=3)\n",
    "test_o = np.expand_dims(test_o, axis=3)"
   ]
  },
  {
   "cell_type": "code",
   "execution_count": 24,
   "metadata": {
    "colab": {
     "base_uri": "https://localhost:8080/",
     "height": 52
    },
    "colab_type": "code",
    "executionInfo": {
     "elapsed": 441741,
     "status": "ok",
     "timestamp": 1590005878050,
     "user": {
      "displayName": "rishabh singhal",
      "photoUrl": "",
      "userId": "14947622490882742658"
     },
     "user_tz": -330
    },
    "id": "DphpDIJSxQAw",
    "outputId": "7d9041d6-16a5-44ad-8ee0-dfb14b88765e"
   },
   "outputs": [
    {
     "name": "stdout",
     "output_type": "stream",
     "text": [
      "104\n",
      "104\n"
     ]
    }
   ],
   "source": [
    "print(len(test_ti))\n",
    "print(len(test_i))"
   ]
  },
  {
   "cell_type": "code",
   "execution_count": 25,
   "metadata": {
    "colab": {
     "base_uri": "https://localhost:8080/",
     "height": 34
    },
    "colab_type": "code",
    "executionInfo": {
     "elapsed": 441698,
     "status": "ok",
     "timestamp": 1590005878051,
     "user": {
      "displayName": "rishabh singhal",
      "photoUrl": "",
      "userId": "14947622490882742658"
     },
     "user_tz": -330
    },
    "id": "YTtL5sxbxRfK",
    "outputId": "a38356ec-2fee-40c6-cb80-3be045bfb516"
   },
   "outputs": [
    {
     "data": {
      "text/plain": [
       "(104, 28, 28, 1)"
      ]
     },
     "execution_count": 25,
     "metadata": {
      "tags": []
     },
     "output_type": "execute_result"
    }
   ],
   "source": [
    "test_o.shape"
   ]
  },
  {
   "cell_type": "code",
   "execution_count": 0,
   "metadata": {
    "colab": {},
    "colab_type": "code",
    "id": "n4LRQZL9xSuQ"
   },
   "outputs": [],
   "source": [
    "from keras.preprocessing import image\n",
    "from keras.optimizers import Adam\n",
    "from keras.callbacks import EarlyStopping\n",
    "from keras.layers import MaxPooling2D, Dropout, UpSampling2D\n",
    "from keras.utils import plot_model, layer_utils\n",
    "import keras\n",
    "from keras import layers\n",
    "import tensorflow as tf"
   ]
  },
  {
   "cell_type": "code",
   "execution_count": 0,
   "metadata": {
    "colab": {},
    "colab_type": "code",
    "id": "rHj6zQGuxUD3"
   },
   "outputs": [],
   "source": [
    "from keras.utils.data_utils import get_file\n",
    "from keras.applications.imagenet_utils import decode_predictions\n",
    "from keras.applications.imagenet_utils import preprocess_input\n",
    "from keras_applications.imagenet_utils import _obtain_input_shape\n",
    "from keras.engine.topology import get_source_inputs\n",
    "from keras.preprocessing import image\n",
    "from keras.applications import resnet50, inception_v3, vgg16\n",
    "from keras.models import Model, Sequential\n",
    "from keras.layers import Activation, Dense, GlobalAveragePooling2D, Input, BatchNormalization, Flatten, Conv2D\n",
    "from keras.optimizers import Adam\n"
   ]
  },
  {
   "cell_type": "code",
   "execution_count": 28,
   "metadata": {
    "colab": {
     "base_uri": "https://localhost:8080/",
     "height": 478
    },
    "colab_type": "code",
    "executionInfo": {
     "elapsed": 441669,
     "status": "ok",
     "timestamp": 1590005878053,
     "user": {
      "displayName": "rishabh singhal",
      "photoUrl": "",
      "userId": "14947622490882742658"
     },
     "user_tz": -330
    },
    "id": "Kq9L7wLcx-Ng",
    "outputId": "1e3bb3b3-e056-412e-ebbc-94bb750fe1f9"
   },
   "outputs": [
    {
     "name": "stdout",
     "output_type": "stream",
     "text": [
      "Model: \"model_1\"\n",
      "__________________________________________________________________________________________________\n",
      "Layer (type)                    Output Shape         Param #     Connected to                     \n",
      "==================================================================================================\n",
      "input_2 (InputLayer)            (None, 28, 28, 1)    0                                            \n",
      "__________________________________________________________________________________________________\n",
      "input_1 (InputLayer)            (None, 28, 28, 1)    0                                            \n",
      "__________________________________________________________________________________________________\n",
      "up_sampling2d_2 (UpSampling2D)  (None, 224, 224, 1)  0           input_2[0][0]                    \n",
      "__________________________________________________________________________________________________\n",
      "up_sampling2d_1 (UpSampling2D)  (None, 224, 224, 1)  0           input_1[0][0]                    \n",
      "__________________________________________________________________________________________________\n",
      "input_3 (InputLayer)            (None, 28, 28, 1)    0                                            \n",
      "__________________________________________________________________________________________________\n",
      "concatenate_1 (Concatenate)     (None, 224, 224, 2)  0           up_sampling2d_2[0][0]            \n",
      "                                                                 up_sampling2d_1[0][0]            \n",
      "__________________________________________________________________________________________________\n",
      "up_sampling2d_3 (UpSampling2D)  (None, 224, 224, 1)  0           input_3[0][0]                    \n",
      "__________________________________________________________________________________________________\n",
      "concatenate_2 (Concatenate)     (None, 224, 224, 3)  0           concatenate_1[0][0]              \n",
      "                                                                 up_sampling2d_3[0][0]            \n",
      "==================================================================================================\n",
      "Total params: 0\n",
      "Trainable params: 0\n",
      "Non-trainable params: 0\n",
      "__________________________________________________________________________________________________\n"
     ]
    }
   ],
   "source": [
    "#model4 = Sequential()\n",
    "#model1 = Sequential()\n",
    "#model1.add(Dense(300, input_dim=40, activation='relu', name='layer_1'))\n",
    "#model2 = Sequential()\n",
    "#model2.add(Dense(300, input_dim=40, activation='relu', name='layer_2'))\n",
    "#merged_model = Sequential()\n",
    "from keras.layers.merge import concatenate\n",
    "#merged_model.add(Merge([model1, model2], mode='concat'))\n",
    "BB1 = Input((28, 28, 1))\n",
    "#BB1 = tf.keras.layers.ZeroPadding2D(padding=((2,2),(2,2)))(BB1)\n",
    "BBB1 = UpSampling2D((8, 8))(BB1)\n",
    "BB2 = Input((28, 28, 1))\n",
    "#BB2 = tf.keras.layers.ZeroPadding2D(padding=((2,2),(2,2)))(BB2)\n",
    "BBB2 = UpSampling2D((8, 8))(BB2)\n",
    "BB3 = Input((28, 28, 1))\n",
    "#BB3 = tf.keras.layers.ZeroPadding2D(padding=((2,2),(2,2)))(BB3)\n",
    "BBB3 = UpSampling2D((8, 8))(BB3)\n",
    "ABB12 = keras.layers.concatenate([BBB2,BBB1],axis=3)\n",
    "ABB123 = keras.layers.concatenate([ABB12,BBB3],axis=3)\n",
    "model4 = Model(inputs=[BB1,BB2,BB3],outputs = [ABB123])\n",
    "#A1234 = keras.layers.concatenate([model4.output,model3.input],axis=3)\n",
    "#merged_model.add(Merge([model4, model3], mode='concat'))\n",
    "model4.summary()\n",
    "#model4.layers[0] = ABB123\n",
    "\n",
    "#model5 = Model(inputs=[model3.input],outputs = [model3.layers[-3].output])\n",
    "#model5.summary()"
   ]
  },
  {
   "cell_type": "code",
   "execution_count": 0,
   "metadata": {
    "colab": {},
    "colab_type": "code",
    "id": "JK-qnfKtyGSr"
   },
   "outputs": [],
   "source": [
    "#model = Model(inputs=[A1,C1,B1],outputs = [output_layer])\n",
    "model4.compile(\n",
    "    optimizer=Adam(lr=1e-4), \n",
    "    loss='mse',\n",
    "    metrics=['accuracy']\n",
    ")\n",
    "#print(model.summary())"
   ]
  },
  {
   "cell_type": "code",
   "execution_count": 0,
   "metadata": {
    "colab": {},
    "colab_type": "code",
    "id": "i3ei3_6MyKfb"
   },
   "outputs": [],
   "source": [
    "x_train1 = train_i\n",
    "x_train2 = train_ti\n",
    "x_train3 = train_o\n",
    "y_train = train_to\n",
    "x_val = train_i\n",
    "y_val = train_o \n",
    "x_train1 = tf.cast(x_train1, tf.int32)\n",
    "x_train2 = tf.cast(x_train2, tf.int32)\n",
    "x_train3 = tf.cast(x_train3, tf.int32)\n",
    "y_train = tf.cast(y_train, tf.int32)\n",
    "x_eval1 = eval_i\n",
    "x_eval2 = eval_ti\n",
    "x_eval3 = eval_o\n",
    "y_eval = eval_to\n",
    "x_eval1 = tf.cast(x_eval1, tf.int32)\n",
    "x_eval2 = tf.cast(x_eval2, tf.int32)\n",
    "x_eval3 = tf.cast(x_eval3, tf.int32)\n",
    "y_eval = tf.cast(y_eval, tf.int32)\n",
    "#model = Model([A1,B1],output_layer)\n",
    "#model.fit(x=[x_train1,x_train2],y=[y_train],batch_size=5,epochs=5)\n",
    "#model.fit(inputs=[train_i,train_ti],outputs=[train_to],batch_size=1,epochs=5)\n",
    "#merged = Model(inputs=[train_i,train_ti],outputs=[train_to])"
   ]
  },
  {
   "cell_type": "code",
   "execution_count": 31,
   "metadata": {
    "colab": {
     "base_uri": "https://localhost:8080/",
     "height": 105
    },
    "colab_type": "code",
    "executionInfo": {
     "elapsed": 454644,
     "status": "ok",
     "timestamp": 1590005891053,
     "user": {
      "displayName": "rishabh singhal",
      "photoUrl": "",
      "userId": "14947622490882742658"
     },
     "user_tz": -330
    },
    "id": "gGQC4NMEyOFM",
    "outputId": "aed887a8-be28-47ad-b62e-75728833babe"
   },
   "outputs": [
    {
     "name": "stdout",
     "output_type": "stream",
     "text": [
      "Train on 1301 samples, validate on 1301 samples\n",
      "Epoch 1/2\n",
      "1/1 [==============================] - 2s 2s/step - loss: 19.6831 - accuracy: 0.9609 - val_loss: 19.6831 - val_accuracy: 0.9609\n",
      "Epoch 2/2\n",
      "1/1 [==============================] - 1s 1s/step - loss: 19.6831 - accuracy: 0.9609 - val_loss: 19.6831 - val_accuracy: 0.9609\n"
     ]
    }
   ],
   "source": [
    "from keras.layers import Input, Dense\n",
    "from keras.models import Model\n",
    "from keras.utils import plot_model\n",
    "\n",
    "from tensorflow import keras\n",
    "a = np.ones((224,224,3))*12\n",
    "y = []\n",
    "y_e = []\n",
    "for i in range (0,(x_train1.shape[0])):\n",
    "    y.append(a)\n",
    "    y_e.append(a)\n",
    "y=np.array(y)\n",
    "y_e=np.array(y_e)\n",
    "model4.fit([x_train1,x_train3,x_train2],[y],steps_per_epoch=1,epochs=2,validation_data=([x_train1,x_train3,x_train2],[y]),validation_steps=1)\n",
    "y = []\n",
    "y_e = []\n",
    "y = model4.predict([x_train1,x_train3,x_train2],steps =1)\n",
    "y_e = model4.predict([x_eval1,x_eval3,x_eval2],steps =1)"
   ]
  },
  {
   "cell_type": "code",
   "execution_count": 0,
   "metadata": {
    "colab": {},
    "colab_type": "code",
    "id": "NajqihMfeKo1"
   },
   "outputs": [],
   "source": [
    "y = tf.cast(y, tf.int32)\n",
    "y_e = tf.cast(y_e, tf.int32)"
   ]
  },
  {
   "cell_type": "code",
   "execution_count": 33,
   "metadata": {
    "colab": {
     "base_uri": "https://localhost:8080/",
     "height": 52
    },
    "colab_type": "code",
    "executionInfo": {
     "elapsed": 454605,
     "status": "ok",
     "timestamp": 1590005891056,
     "user": {
      "displayName": "rishabh singhal",
      "photoUrl": "",
      "userId": "14947622490882742658"
     },
     "user_tz": -330
    },
    "id": "T91Wnoj8yTXZ",
    "outputId": "92715a09-9be1-4a53-cb05-3cfbea3d3ffb"
   },
   "outputs": [
    {
     "name": "stdout",
     "output_type": "stream",
     "text": [
      "(1301, 28, 28, 1)\n"
     ]
    },
    {
     "data": {
      "text/plain": [
       "tensorflow.python.framework.ops.EagerTensor"
      ]
     },
     "execution_count": 33,
     "metadata": {
      "tags": []
     },
     "output_type": "execute_result"
    }
   ],
   "source": [
    "print(y_train.shape)\n",
    "type(y)"
   ]
  },
  {
   "cell_type": "code",
   "execution_count": 36,
   "metadata": {
    "colab": {
     "base_uri": "https://localhost:8080/",
     "height": 941
    },
    "colab_type": "code",
    "executionInfo": {
     "elapsed": 456556,
     "status": "ok",
     "timestamp": 1590005893105,
     "user": {
      "displayName": "rishabh singhal",
      "photoUrl": "",
      "userId": "14947622490882742658"
     },
     "user_tz": -330
    },
    "id": "rxgUovhgxkNW",
    "outputId": "791eaccb-cf87-48f7-f733-c087ddb787b2",
    "scrolled": true
   },
   "outputs": [
    {
     "name": "stdout",
     "output_type": "stream",
     "text": [
      "Model: \"model_2\"\n",
      "_________________________________________________________________\n",
      "Layer (type)                 Output Shape              Param #   \n",
      "=================================================================\n",
      "input_4 (InputLayer)         (None, 224, 224, 3)       0         \n",
      "_________________________________________________________________\n",
      "block1_conv1 (Conv2D)        (None, 224, 224, 64)      1792      \n",
      "_________________________________________________________________\n",
      "block1_conv2 (Conv2D)        (None, 224, 224, 64)      36928     \n",
      "_________________________________________________________________\n",
      "block1_pool (MaxPooling2D)   (None, 112, 112, 64)      0         \n",
      "_________________________________________________________________\n",
      "block2_conv1 (Conv2D)        (None, 112, 112, 128)     73856     \n",
      "_________________________________________________________________\n",
      "block2_conv2 (Conv2D)        (None, 112, 112, 128)     147584    \n",
      "_________________________________________________________________\n",
      "block2_pool (MaxPooling2D)   (None, 56, 56, 128)       0         \n",
      "_________________________________________________________________\n",
      "block3_conv1 (Conv2D)        (None, 56, 56, 256)       295168    \n",
      "_________________________________________________________________\n",
      "block3_conv2 (Conv2D)        (None, 56, 56, 256)       590080    \n",
      "_________________________________________________________________\n",
      "block3_conv3 (Conv2D)        (None, 56, 56, 256)       590080    \n",
      "_________________________________________________________________\n",
      "block3_pool (MaxPooling2D)   (None, 28, 28, 256)       0         \n",
      "_________________________________________________________________\n",
      "block4_conv1 (Conv2D)        (None, 28, 28, 512)       1180160   \n",
      "_________________________________________________________________\n",
      "block4_conv2 (Conv2D)        (None, 28, 28, 512)       2359808   \n",
      "_________________________________________________________________\n",
      "block4_conv3 (Conv2D)        (None, 28, 28, 512)       2359808   \n",
      "_________________________________________________________________\n",
      "block4_pool (MaxPooling2D)   (None, 14, 14, 512)       0         \n",
      "_________________________________________________________________\n",
      "block5_conv1 (Conv2D)        (None, 14, 14, 512)       2359808   \n",
      "_________________________________________________________________\n",
      "block5_conv2 (Conv2D)        (None, 14, 14, 512)       2359808   \n",
      "_________________________________________________________________\n",
      "block5_conv3 (Conv2D)        (None, 14, 14, 512)       2359808   \n",
      "_________________________________________________________________\n",
      "block5_pool (MaxPooling2D)   (None, 7, 7, 512)         0         \n",
      "_________________________________________________________________\n",
      "up_sampling2d_4 (UpSampling2 (None, 28, 28, 512)       0         \n",
      "_________________________________________________________________\n",
      "conv2d_1 (Conv2D)            (None, 28, 28, 4)         18436     \n",
      "_________________________________________________________________\n",
      "conv2d_2 (Conv2D)            (None, 28, 28, 1)         37        \n",
      "=================================================================\n",
      "Total params: 14,733,161\n",
      "Trainable params: 14,733,161\n",
      "Non-trainable params: 0\n",
      "_________________________________________________________________\n"
     ]
    }
   ],
   "source": [
    "model7 = vgg16.VGG16(weights='imagenet', include_top=False, input_shape=(224,224,3))\n",
    "x = model7.output\n",
    "#x = GlobalAveragePooling2D()(x)\n",
    "x2 = UpSampling2D((4, 4))(x)\n",
    "#x3 = Conv2D(64, (3, 3), activation='softplus', padding='same')(x2)\n",
    "#x4 = Conv2D(16, (3, 3), activation='softplus', padding='same')(x3)\n",
    "#pool2 = MaxPooling2D(pool_size=(2, 2))(conv2)\n",
    "x5 = Conv2D(4, (3, 3), activation='softsign', padding='same')(x2)\n",
    "x6 = Conv2D(1, (3, 3), activation='softplus', padding='same')(x5)\n",
    "#x = Dense(300, activation='relu')(x)\n",
    "#predictions = Dense(num_classes, activation='softmax')(x)\n",
    "model8 = Model(inputs=[model7.input], outputs=[x6])\n",
    "model8.summary()"
   ]
  },
  {
   "cell_type": "code",
   "execution_count": 37,
   "metadata": {
    "colab": {
     "base_uri": "https://localhost:8080/",
     "height": 34
    },
    "colab_type": "code",
    "executionInfo": {
     "elapsed": 456537,
     "status": "ok",
     "timestamp": 1590005893106,
     "user": {
      "displayName": "rishabh singhal",
      "photoUrl": "",
      "userId": "14947622490882742658"
     },
     "user_tz": -330
    },
    "id": "fVQFO6UlxsP9",
    "outputId": "ecafe5bb-980f-4947-c020-a8488981c033"
   },
   "outputs": [
    {
     "data": {
      "text/plain": [
       "22"
      ]
     },
     "execution_count": 37,
     "metadata": {
      "tags": []
     },
     "output_type": "execute_result"
    }
   ],
   "source": [
    "len(model8.layers)"
   ]
  },
  {
   "cell_type": "code",
   "execution_count": 38,
   "metadata": {
    "colab": {
     "base_uri": "https://localhost:8080/",
     "height": 941
    },
    "colab_type": "code",
    "executionInfo": {
     "elapsed": 456528,
     "status": "ok",
     "timestamp": 1590005893108,
     "user": {
      "displayName": "rishabh singhal",
      "photoUrl": "",
      "userId": "14947622490882742658"
     },
     "user_tz": -330
    },
    "id": "7V7KHpaSxoRh",
    "outputId": "4f9105f4-ae47-4732-b7d9-f38654e49e48",
    "scrolled": true
   },
   "outputs": [
    {
     "name": "stdout",
     "output_type": "stream",
     "text": [
      "Model: \"model_2\"\n",
      "_________________________________________________________________\n",
      "Layer (type)                 Output Shape              Param #   \n",
      "=================================================================\n",
      "input_4 (InputLayer)         (None, 224, 224, 3)       0         \n",
      "_________________________________________________________________\n",
      "block1_conv1 (Conv2D)        (None, 224, 224, 64)      1792      \n",
      "_________________________________________________________________\n",
      "block1_conv2 (Conv2D)        (None, 224, 224, 64)      36928     \n",
      "_________________________________________________________________\n",
      "block1_pool (MaxPooling2D)   (None, 112, 112, 64)      0         \n",
      "_________________________________________________________________\n",
      "block2_conv1 (Conv2D)        (None, 112, 112, 128)     73856     \n",
      "_________________________________________________________________\n",
      "block2_conv2 (Conv2D)        (None, 112, 112, 128)     147584    \n",
      "_________________________________________________________________\n",
      "block2_pool (MaxPooling2D)   (None, 56, 56, 128)       0         \n",
      "_________________________________________________________________\n",
      "block3_conv1 (Conv2D)        (None, 56, 56, 256)       295168    \n",
      "_________________________________________________________________\n",
      "block3_conv2 (Conv2D)        (None, 56, 56, 256)       590080    \n",
      "_________________________________________________________________\n",
      "block3_conv3 (Conv2D)        (None, 56, 56, 256)       590080    \n",
      "_________________________________________________________________\n",
      "block3_pool (MaxPooling2D)   (None, 28, 28, 256)       0         \n",
      "_________________________________________________________________\n",
      "block4_conv1 (Conv2D)        (None, 28, 28, 512)       1180160   \n",
      "_________________________________________________________________\n",
      "block4_conv2 (Conv2D)        (None, 28, 28, 512)       2359808   \n",
      "_________________________________________________________________\n",
      "block4_conv3 (Conv2D)        (None, 28, 28, 512)       2359808   \n",
      "_________________________________________________________________\n",
      "block4_pool (MaxPooling2D)   (None, 14, 14, 512)       0         \n",
      "_________________________________________________________________\n",
      "block5_conv1 (Conv2D)        (None, 14, 14, 512)       2359808   \n",
      "_________________________________________________________________\n",
      "block5_conv2 (Conv2D)        (None, 14, 14, 512)       2359808   \n",
      "_________________________________________________________________\n",
      "block5_conv3 (Conv2D)        (None, 14, 14, 512)       2359808   \n",
      "_________________________________________________________________\n",
      "block5_pool (MaxPooling2D)   (None, 7, 7, 512)         0         \n",
      "_________________________________________________________________\n",
      "up_sampling2d_4 (UpSampling2 (None, 28, 28, 512)       0         \n",
      "_________________________________________________________________\n",
      "conv2d_1 (Conv2D)            (None, 28, 28, 4)         18436     \n",
      "_________________________________________________________________\n",
      "conv2d_2 (Conv2D)            (None, 28, 28, 1)         37        \n",
      "=================================================================\n",
      "Total params: 14,733,161\n",
      "Trainable params: 20,265\n",
      "Non-trainable params: 14,712,896\n",
      "_________________________________________________________________\n"
     ]
    }
   ],
   "source": [
    "i=0\n",
    "for layer in model8.layers:\n",
    "    if(i<2):\n",
    "        i=i+1\n",
    "    else :\n",
    "        model8.layers[i].trainable = False\n",
    "        i=i+1\n",
    "    if(i>17):\n",
    "        break\n",
    "        \n",
    "model8.summary()"
   ]
  },
  {
   "cell_type": "code",
   "execution_count": 39,
   "metadata": {
    "colab": {
     "base_uri": "https://localhost:8080/",
     "height": 252
    },
    "colab_type": "code",
    "executionInfo": {
     "elapsed": 457352,
     "status": "ok",
     "timestamp": 1590005893951,
     "user": {
      "displayName": "rishabh singhal",
      "photoUrl": "",
      "userId": "14947622490882742658"
     },
     "user_tz": -330
    },
    "id": "blzsi71zxt1H",
    "outputId": "0ae5015c-07e3-4c61-803b-2523963bfa6f"
   },
   "outputs": [
    {
     "data": {
      "image/png": "[encoded data removed]",
      "text/plain": [
       "<Figure size 432x288 with 18 Axes>"
      ]
     },
     "metadata": {
      "tags": []
     },
     "output_type": "display_data"
    }
   ],
   "source": [
    "filters, biases = model8.layers[2].get_weights()\n",
    "from matplotlib import pyplot\n",
    "# normalize filter values to 0-1 so we can visualize them\n",
    "f_min, f_max = filters.min(), filters.max()\n",
    "filters = (filters - f_min) / (f_max - f_min)\n",
    "\n",
    "# normalize filter values to 0-1 so we can visualize them\n",
    "f_min, f_max = filters.min(), filters.max()\n",
    "filters = (filters - f_min) / (f_max - f_min)\n",
    "\n",
    "\n",
    "# plot first few filters\n",
    "n_filters, ix = 6, 1\n",
    "for i in range(n_filters):\n",
    "    # get the filter\n",
    "    f = filters[:, :, :, i]\n",
    "    # plot each channel separately\n",
    "    for j in range(3):\n",
    "# specify subplot and turn of axis\n",
    "        ax = pyplot.subplot(n_filters, 3, ix)\n",
    "        ax.set_xticks([])\n",
    "        ax.set_yticks([])\n",
    "# plot filter channel in grayscale\n",
    "        pyplot.imshow(f[:, :, j], cmap='gray')\n",
    "        ix += 1\n",
    "# show the figure\n",
    "pyplot.show()"
   ]
  },
  {
   "cell_type": "code",
   "execution_count": 0,
   "metadata": {
    "colab": {},
    "colab_type": "code",
    "id": "KDxn5s6LxzvY"
   },
   "outputs": [],
   "source": [
    "#model = Model(inputs=[A1,C1,B1],outputs = [output_layer])\n",
    "model8.compile(\n",
    "    optimizer=Adam(lr=1e-4), \n",
    "    loss='mse',\n",
    "    metrics=['accuracy']\n",
    ")\n",
    "#print(model8.summary())"
   ]
  },
  {
   "cell_type": "markdown",
   "metadata": {
    "colab_type": "text",
    "id": "UjcsAWo0GfEw"
   },
   "source": [
    "#@title Default title text\n",
    "from keras import backend as K\n",
    "K.clear_session()\n",
    "tf.compat.v1.reset_default_graph()"
   ]
  },
  {
   "cell_type": "code",
   "execution_count": 41,
   "metadata": {
    "colab": {
     "base_uri": "https://localhost:8080/",
     "height": 34
    },
    "colab_type": "code",
    "executionInfo": {
     "elapsed": 457334,
     "status": "ok",
     "timestamp": 1590005893953,
     "user": {
      "displayName": "rishabh singhal",
      "photoUrl": "",
      "userId": "14947622490882742658"
     },
     "user_tz": -330
    },
    "id": "AW8JCoz61K4p",
    "outputId": "6f7df976-0466-45b0-d4d1-f8f36e3c58c0"
   },
   "outputs": [
    {
     "name": "stdout",
     "output_type": "stream",
     "text": [
      "(None, 28, 28, 1)\n"
     ]
    }
   ],
   "source": [
    "print(model8.layers[-1].output_shape)"
   ]
  },
  {
   "cell_type": "code",
   "execution_count": 42,
   "metadata": {
    "colab": {
     "base_uri": "https://localhost:8080/",
     "height": 34
    },
    "colab_type": "code",
    "executionInfo": {
     "elapsed": 457324,
     "status": "ok",
     "timestamp": 1590005893954,
     "user": {
      "displayName": "rishabh singhal",
      "photoUrl": "",
      "userId": "14947622490882742658"
     },
     "user_tz": -330
    },
    "id": "LrkMz7D20vtd",
    "outputId": "d05816e5-bf51-4014-934c-6dc86227d167"
   },
   "outputs": [
    {
     "data": {
      "text/plain": [
       "TensorShape([1301, 224, 224, 3])"
      ]
     },
     "execution_count": 42,
     "metadata": {
      "tags": []
     },
     "output_type": "execute_result"
    }
   ],
   "source": [
    "y.shape"
   ]
  },
  {
   "cell_type": "code",
   "execution_count": 45,
   "metadata": {
    "colab": {
     "base_uri": "https://localhost:8080/",
     "height": 763
    },
    "colab_type": "code",
    "executionInfo": {
     "elapsed": 875966,
     "status": "ok",
     "timestamp": 1590006312758,
     "user": {
      "displayName": "rishabh singhal",
      "photoUrl": "",
      "userId": "14947622490882742658"
     },
     "user_tz": -330
    },
    "id": "gO2Bbk2Ix5y_",
    "outputId": "5d5da5a0-a9dd-4922-ad3d-904fe96b5bd8",
    "scrolled": true
   },
   "outputs": [
    {
     "name": "stdout",
     "output_type": "stream",
     "text": [
      "Train on 100 samples, validate on 200 samples\n",
      "Epoch 1/20\n",
      "10/10 [==============================] - 49s 5s/step - loss: 103.2381 - accuracy: 0.0688 - val_loss: 88.9451 - val_accuracy: 0.0419\n",
      "Epoch 2/20\n",
      "10/10 [==============================] - 19s 2s/step - loss: 97.2067 - accuracy: 0.0127 - val_loss: 82.5526 - val_accuracy: 0.0289\n",
      "Epoch 3/20\n",
      "10/10 [==============================] - 19s 2s/step - loss: 90.5331 - accuracy: 0.0076 - val_loss: 77.2399 - val_accuracy: 0.0243\n",
      "Epoch 4/20\n",
      "10/10 [==============================] - 19s 2s/step - loss: 85.2129 - accuracy: 0.0088 - val_loss: 73.7281 - val_accuracy: 0.0223\n",
      "Epoch 5/20\n",
      "10/10 [==============================] - 19s 2s/step - loss: 81.8486 - accuracy: 0.0096 - val_loss: 71.3028 - val_accuracy: 0.0216\n",
      "Epoch 6/20\n",
      "10/10 [==============================] - 19s 2s/step - loss: 79.4191 - accuracy: 0.0102 - val_loss: 69.5676 - val_accuracy: 0.0211\n",
      "Epoch 7/20\n",
      "10/10 [==============================] - 19s 2s/step - loss: 77.6668 - accuracy: 0.0105 - val_loss: 68.2752 - val_accuracy: 0.0203\n",
      "Epoch 8/20\n",
      "10/10 [==============================] - 19s 2s/step - loss: 76.3070 - accuracy: 0.0110 - val_loss: 67.1995 - val_accuracy: 0.0196\n",
      "Epoch 9/20\n",
      "10/10 [==============================] - 19s 2s/step - loss: 75.1472 - accuracy: 0.0117 - val_loss: 66.2528 - val_accuracy: 0.0183\n",
      "Epoch 10/20\n",
      "10/10 [==============================] - 19s 2s/step - loss: 74.1073 - accuracy: 0.0123 - val_loss: 65.3974 - val_accuracy: 0.0177\n",
      "Epoch 11/20\n",
      "10/10 [==============================] - 19s 2s/step - loss: 73.1592 - accuracy: 0.0128 - val_loss: 64.6030 - val_accuracy: 0.0170\n",
      "Epoch 12/20\n",
      "10/10 [==============================] - 19s 2s/step - loss: 72.2688 - accuracy: 0.0136 - val_loss: 63.8629 - val_accuracy: 0.0163\n",
      "Epoch 13/20\n",
      "10/10 [==============================] - 19s 2s/step - loss: 71.4330 - accuracy: 0.0144 - val_loss: 63.1656 - val_accuracy: 0.0161\n",
      "Epoch 14/20\n",
      "10/10 [==============================] - 19s 2s/step - loss: 70.6425 - accuracy: 0.0146 - val_loss: 62.5111 - val_accuracy: 0.0164\n",
      "Epoch 15/20\n",
      "10/10 [==============================] - 19s 2s/step - loss: 69.8905 - accuracy: 0.0145 - val_loss: 61.8681 - val_accuracy: 0.0166\n",
      "Epoch 16/20\n",
      "10/10 [==============================] - 19s 2s/step - loss: 69.1678 - accuracy: 0.0142 - val_loss: 61.2570 - val_accuracy: 0.0169\n",
      "Epoch 17/20\n",
      "10/10 [==============================] - 19s 2s/step - loss: 68.4705 - accuracy: 0.0140 - val_loss: 60.6652 - val_accuracy: 0.0169\n",
      "Epoch 18/20\n",
      "10/10 [==============================] - 19s 2s/step - loss: 67.7941 - accuracy: 0.0137 - val_loss: 60.0915 - val_accuracy: 0.0168\n",
      "Epoch 19/20\n",
      "10/10 [==============================] - 19s 2s/step - loss: 67.1397 - accuracy: 0.0136 - val_loss: 59.5376 - val_accuracy: 0.0168\n",
      "Epoch 20/20\n",
      "10/10 [==============================] - 19s 2s/step - loss: 66.5040 - accuracy: 0.0135 - val_loss: 58.9975 - val_accuracy: 0.0167\n"
     ]
    },
    {
     "data": {
      "text/plain": [
       "<keras.callbacks.callbacks.History at 0x7f3b6caa0160>"
      ]
     },
     "execution_count": 45,
     "metadata": {
      "tags": []
     },
     "output_type": "execute_result"
    }
   ],
   "source": [
    "from keras.layers import Input, Dense\n",
    "from keras.models import Model\n",
    "from keras.utils import plot_model\n",
    "\n",
    "from tensorflow import keras\n",
    "model8.fit([y[:100]],[y_train[:100]],steps_per_epoch=10,epochs=20,validation_data=([y_e[:200]],[y_eval[:200]]),validation_steps=1)\n",
    "#x_train1[0].dtype"
   ]
  },
  {
   "cell_type": "code",
   "execution_count": 0,
   "metadata": {
    "colab": {},
    "colab_type": "code",
    "id": "sdWQe_9QDkob"
   },
   "outputs": [],
   "source": []
  }
 ],
 "metadata": {
  "colab": {
   "authorship_tag": "ABX9TyPemwq8HsLJfGWJrJM3Osmb",
   "name": "Untitled2.ipynb",
   "provenance": [],
   "toc_visible": true
  },
  "kernelspec": {
   "display_name": "Python 3 (ipykernel)",
   "language": "python",
   "name": "python3"
  },
  "language_info": {
   "codemirror_mode": {
    "name": "ipython",
    "version": 3
   },
   "file_extension": ".py",
   "mimetype": "text/x-python",
   "name": "python",
   "nbconvert_exporter": "python",
   "pygments_lexer": "ipython3",
   "version": "3.7.10"
  }
 },
 "nbformat": 4,
 "nbformat_minor": 1
}